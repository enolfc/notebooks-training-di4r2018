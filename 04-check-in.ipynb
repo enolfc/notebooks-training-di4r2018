{
 "cells": [
  {
   "cell_type": "markdown",
   "metadata": {},
   "source": [
    "# Interacting with the infrastructure with your own credentials\n",
    "\n",
    "This code shows how to get a valid access token to interact \n",
    "with Check-in integrated services. \n",
    "\n",
    "**Beware the API for refreshing tokens is still under development \n",
    "and may change in the future**\n",
    "\n",
    "In this example we use the token to get our own information from\n",
    "Check-in"
   ]
  },
  {
   "cell_type": "markdown",
   "metadata": {},
   "source": [
    "## Get an access token that can be used to access other services"
   ]
  },
  {
   "cell_type": "code",
   "execution_count": 2,
   "metadata": {},
   "outputs": [
    {
     "name": "stdout",
     "output_type": "stream",
     "text": [
      "Got a new token: eyJraWQiOi...\n"
     ]
    }
   ],
   "source": [
    "import requests\n",
    "import os\n",
    "\n",
    "api_url = os.environ.get('JUPYTERHUB_API_URL')\n",
    "token = os.environ.get('JUPYTERHUB_API_TOKEN')\n",
    "\n",
    "r = requests.get(api_url + '/refresh',\n",
    "    headers={'Authorization': 'token %s' % token})\n",
    "\n",
    "checkin_token = r.json()['access_token']\n",
    "\n",
    "print(\"Got a new token: %s...\" % checkin_token[0:10])"
   ]
  },
  {
   "cell_type": "markdown",
   "metadata": {},
   "source": [
    "## Interact with a EGI service\n",
    "\n",
    "In this case we will just interact with Check-in to get our own user information"
   ]
  },
  {
   "cell_type": "code",
   "execution_count": 3,
   "metadata": {},
   "outputs": [
    {
     "name": "stdout",
     "output_type": "stream",
     "text": [
      "Enol Fernández del Castillo\n",
      "enol.fernandez@egi.eu\n"
     ]
    }
   ],
   "source": [
    "userinfo_url = 'https://aai-dev.egi.eu/oidc/userinfo'\n",
    "\n",
    "r = requests.get(userinfo_url, \n",
    "    headers={'Authorization': 'Bearer %s' % checkin_token})\n",
    "\n",
    "userinfo = r.json()\n",
    "\n",
    "print(userinfo['name'])\n",
    "print(userinfo['email'])"
   ]
  },
  {
   "cell_type": "code",
   "execution_count": null,
   "metadata": {},
   "outputs": [],
   "source": []
  }
 ],
 "metadata": {
  "kernelspec": {
   "display_name": "Python 3",
   "language": "python",
   "name": "python3"
  },
  "language_info": {
   "codemirror_mode": {
    "name": "ipython",
    "version": 3
   },
   "file_extension": ".py",
   "mimetype": "text/x-python",
   "name": "python",
   "nbconvert_exporter": "python",
   "pygments_lexer": "ipython3",
   "version": "3.7.1"
  }
 },
 "nbformat": 4,
 "nbformat_minor": 2
}
