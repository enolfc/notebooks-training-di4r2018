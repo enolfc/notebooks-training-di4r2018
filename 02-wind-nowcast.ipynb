{
 "cells": [
  {
   "cell_type": "markdown",
   "metadata": {
    "ExecuteTime": {
     "end_time": "2018-10-03T18:49:10.333945Z",
     "start_time": "2018-10-03T18:49:10.322610Z"
    }
   },
   "source": [
    "# Purpose\n",
    "download wind nowcast from NOAA's GrADS Data Server \n",
    "and plot wind speed and vectors for timestamp closest \n",
    "to current time on a map\n",
    "\n",
    "# Dependencies\n",
    "python 3.6, datetime, pydap.client, numpy, xarray, pandas, os, cartopy, matplotlib.pyplot\n",
    "\n",
    "# Creation Date\n",
    "13 Aug 2018\n",
    "\n",
    "# Author(s)\n",
    "- `bjornb` <backeb@gmail.com> Bjorn Backeberg\n",
    "\n",
    "# Log:\n",
    "- 13 Aug 2018: `bjornb` - plot wind speed and directional streamlines on map using cartopy\n",
    "- 03 Oct 2018: `bjornb` - add get gfs wind nowcast from NOAA's GrADS Data Server\n"
   ]
  },
  {
   "cell_type": "code",
   "execution_count": 1,
   "metadata": {
    "ExecuteTime": {
     "end_time": "2018-10-03T18:49:12.948484Z",
     "start_time": "2018-10-03T18:49:12.945011Z"
    }
   },
   "outputs": [],
   "source": [
    "# here we define some usefule functions\n",
    "def nearest(items, pivot):\n",
    "    \"\"\"function returns the datetime in items which is the closest to the date pivot.\n",
    "    Works on other types than datetime too out of the box, if the type supports comparison, \n",
    "    subtraction and abs, e.g.: numbers and vector types.\"\"\"\n",
    "    return min(items, key=lambda x: abs(x - pivot))"
   ]
  },
  {
   "cell_type": "code",
   "execution_count": 2,
   "metadata": {
    "ExecuteTime": {
     "end_time": "2018-10-03T18:49:15.905808Z",
     "start_time": "2018-10-03T18:49:15.017002Z"
    }
   },
   "outputs": [
    {
     "name": "stderr",
     "output_type": "stream",
     "text": [
      "/opt/conda/lib/python3.7/site-packages/dask/config.py:168: YAMLLoadWarning: calling yaml.load() without Loader=... is deprecated, as the default Loader is unsafe. Please read https://msg.pyyaml.org/load for full details.\n",
      "  data = yaml.load(f.read()) or {}\n",
      "/opt/conda/lib/python3.7/site-packages/distributed/config.py:20: YAMLLoadWarning: calling yaml.load() without Loader=... is deprecated, as the default Loader is unsafe. Please read https://msg.pyyaml.org/load for full details.\n",
      "  defaults = yaml.load(f)\n"
     ]
    }
   ],
   "source": [
    "\n",
    "# here import all the necessary libraries\n",
    "from datetime import datetime, timedelta\n",
    "from pydap.client import open_url\n",
    "import numpy as np\n",
    "import xarray as xr\n",
    "import pandas as pd\n",
    "import os\n",
    "import cartopy.crs as ccrs\n",
    "import cartopy.feature as cfeature\n",
    "import matplotlib.pyplot as plt "
   ]
  },
  {
   "cell_type": "code",
   "execution_count": 3,
   "metadata": {
    "ExecuteTime": {
     "end_time": "2018-10-03T18:49:49.215958Z",
     "start_time": "2018-10-03T18:49:46.639976Z"
    }
   },
   "outputs": [
    {
     "name": "stdout",
     "output_type": "stream",
     "text": [
      "got latest wind forcast, url is: https://nomads.ncep.noaa.gov:9090/dods/gfs_0p25_1hr/gfs20190401/gfs_0p25_1hr_18z\n"
     ]
    }
   ],
   "source": [
    "# here we fetch the latest GFS forcast data from NOAA's GrADS Data Server\n",
    "ref_date = datetime.now() - timedelta(days=1)\n",
    "url = \"https://nomads.ncep.noaa.gov:9090/dods/gfs_0p25_1hr/gfs{date}/gfs_0p25_1hr_{hour}\"\n",
    "\n",
    "for z in [\"18z\", \"12z\", \"06z\", \"00z\"]:\n",
    "    url_z = url.format(date=ref_date.strftime('%Y%m%d'), hour=z)\n",
    "    try:\n",
    "        dataset = open_url(url_z)\n",
    "        print(\"got latest wind forcast, url is: \" + url_z)\n",
    "        break\n",
    "    except Exception as e:\n",
    "        pass"
   ]
  },
  {
   "cell_type": "code",
   "execution_count": 4,
   "metadata": {
    "ExecuteTime": {
     "end_time": "2018-10-03T18:49:17.595902Z",
     "start_time": "2018-10-03T18:49:17.592833Z"
    }
   },
   "outputs": [],
   "source": [
    "# here we set the domain we want download and plot\n",
    "# domain = [lon-lower-left-corner, lon-upper-right-corner, lat-lower-left-corner, lat-upper-right-corner]\n",
    "domain = [115, 125, 20, 27]"
   ]
  },
  {
   "cell_type": "code",
   "execution_count": null,
   "metadata": {
    "ExecuteTime": {
     "end_time": "2018-10-03T18:51:09.882325Z",
     "start_time": "2018-10-03T18:50:25.186335Z"
    }
   },
   "outputs": [],
   "source": [
    "# here we subset and load region of interest\n",
    "lon = dataset['lon'];\n",
    "lat = dataset['lat']; \n",
    "\n",
    "lonIndx = np.squeeze(np.array(np.where((lon >= domain[0]) & (lon <= domain[1]))))\n",
    "latIndx = np.squeeze(np.array(np.where((lat >= domain[2]) & (lat <= domain[3]))))\n",
    "ugrd10m = dataset['ugrd10m'][:,slice(latIndx[0],latIndx[-1]),slice(lonIndx[0],lonIndx[-1])]\n",
    "vgrd10m = dataset['vgrd10m'][:,slice(latIndx[0],latIndx[-1]),slice(lonIndx[0],lonIndx[-1])]\n",
    "time = dataset['time']\n",
    "timeUnits = time.attributes['units']\n",
    "# del lon, lat, dataset, url_z # delete superfluous variables"
   ]
  },
  {
   "cell_type": "code",
   "execution_count": null,
   "metadata": {
    "ExecuteTime": {
     "end_time": "2018-10-03T18:52:10.254786Z",
     "start_time": "2018-10-03T18:52:09.487962Z"
    }
   },
   "outputs": [],
   "source": [
    "# here we put everything into a xarray.Dataset - just makes life easier... probably a better way to do this\n",
    "ds = xr.Dataset()\n",
    "decode_time = xr.coding.times.decode_cf_datetime # need this guy when setting the time coord in xarray.Dataset\n",
    "# here we write ugrd10m and vgrd10m to the xarray.Dataset\n",
    "ds['ugrd10m'] = xr.DataArray(data=ugrd10m.data[0],\n",
    "        name=ugrd10m.name, dims=ugrd10m.dimensions,\n",
    "        coords={'time': decode_time(time[:], timeUnits), 'lat': ugrd10m.data[2], 'lon': ugrd10m.data[3]},\n",
    "        attrs=ugrd10m.attributes)\n",
    "ds['vgrd10m'] = xr.DataArray(data=vgrd10m.data[0],\n",
    "        name=vgrd10m.name, dims=vgrd10m.dimensions,\n",
    "        coords={'time': decode_time(time[:], timeUnits), 'lat': vgrd10m.data[2], 'lon': vgrd10m.data[3]},\n",
    "        attrs=vgrd10m.attributes)"
   ]
  },
  {
   "cell_type": "code",
   "execution_count": null,
   "metadata": {
    "ExecuteTime": {
     "end_time": "2018-10-03T18:52:53.138699Z",
     "start_time": "2018-10-03T18:52:53.135338Z"
    }
   },
   "outputs": [],
   "source": [
    "# here we del some superfluous variables\n",
    "del decode_time, domain, open_url, ref_date, url, z"
   ]
  },
  {
   "cell_type": "code",
   "execution_count": null,
   "metadata": {
    "ExecuteTime": {
     "end_time": "2018-10-03T18:53:00.600910Z",
     "start_time": "2018-10-03T18:53:00.581794Z"
    }
   },
   "outputs": [],
   "source": [
    "# here we get the timestamp closest to our current time, i.e. we want to plot the winds as predicted now\n",
    "t0 = np.squeeze(np.where(pd.to_datetime(ds.time.data) == nearest(pd.to_datetime(ds.time.data), datetime.now())))\n",
    "\n",
    "# here we define the variables to plot again... I know... better ways exist...\n",
    "tm = ds.time.data[t0]\n",
    "lon = ds.lon.data\n",
    "lat = ds.lat.data\n",
    "u = ds.ugrd10m.data[t0, :, :]\n",
    "v = ds.vgrd10m.data[t0, :, :]"
   ]
  },
  {
   "cell_type": "code",
   "execution_count": null,
   "metadata": {
    "ExecuteTime": {
     "end_time": "2018-10-03T18:53:05.035819Z",
     "start_time": "2018-10-03T18:53:04.801892Z"
    }
   },
   "outputs": [],
   "source": [
    "# here we calculate the wind speed magniture\n",
    "uv = np.sqrt(u**2 + v**2)"
   ]
  },
  {
   "cell_type": "code",
   "execution_count": null,
   "metadata": {
    "ExecuteTime": {
     "end_time": "2018-10-03T18:53:22.960582Z",
     "start_time": "2018-10-03T18:53:11.040244Z"
    }
   },
   "outputs": [],
   "source": [
    "# here we plot the wind nowcast\n",
    "fig = plt.figure(figsize = (13, 10), dpi = 80) \n",
    "\n",
    "# here we do all the plotting stuff\n",
    "ax = plt.axes(projection=ccrs.Mercator(central_longitude = np.median(lon)))\n",
    "# Set the map extent, making sure to specify the correct coordinate system\n",
    "# for geographical coordinates:\n",
    "ax.set_extent([ds.lon.data.min(), ds.lon.data.max(), ds.lat.data.min(), ds.lat.data.max()], crs=ccrs.PlateCarree())\n",
    "\n",
    "ax.pcolormesh(lon, lat, uv, shading = 'gourand', cmap = plt.cm.Spectral_r, transform = ccrs.PlateCarree())\n",
    "ax.streamplot(lon, lat, u, v, color = uv, \n",
    "              cmap = plt.cm.copper, \n",
    "              zorder = 10, \n",
    "              density = 2, \n",
    "              transform = ccrs.PlateCarree())\n",
    "\n",
    "coastline = cfeature.GSHHSFeature(scale = 'intermediate', edgecolor = 'none', facecolor = 'grey')\n",
    "ax.add_feature(coastline)\n",
    "\n",
    "plt.title(\"GFS \"+str((pd.to_datetime(tm)).strftime('%Y-%m-%d %H:%M')))\n",
    "\n",
    "plt.show()"
   ]
  },
  {
   "cell_type": "code",
   "execution_count": null,
   "metadata": {},
   "outputs": [],
   "source": []
  }
 ],
 "metadata": {
  "kernelspec": {
   "display_name": "Python 3",
   "language": "python",
   "name": "python3"
  },
  "language_info": {
   "codemirror_mode": {
    "name": "ipython",
    "version": 3
   },
   "file_extension": ".py",
   "mimetype": "text/x-python",
   "name": "python",
   "nbconvert_exporter": "python",
   "pygments_lexer": "ipython3",
   "version": "3.7.1"
  }
 },
 "nbformat": 4,
 "nbformat_minor": 2
}
